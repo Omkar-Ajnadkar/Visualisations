{
 "cells": [
  {
   "cell_type": "code",
   "execution_count": 2,
   "metadata": {},
   "outputs": [],
   "source": [
    "import random\n",
    "import numpy as np\n",
    "import pandas as pd\n",
    "import seaborn as sns\n",
    "import matplotlib.pyplot as plt\n",
    "%matplotlib inline"
   ]
  },
  {
   "cell_type": "code",
   "execution_count": 78,
   "metadata": {},
   "outputs": [
    {
     "data": {
      "image/png": "[encoded data removed]",
      "text/plain": [
       "<Figure size 432x288 with 1 Axes>"
      ]
     },
     "metadata": {},
     "output_type": "display_data"
    }
   ],
   "source": [
    "#Distribution of goals over period of match time(World Cup 2014 vs 2018)\n",
    "all_goal_times_2018 = []\n",
    "for i in range(0,20):\n",
    "    matches = pd.read_json('./2018/worldcup.json')['rounds'][i]['matches']\n",
    "    for j in range(len(matches)):\n",
    "        goal_times = []\n",
    "        if 'goals1' in matches[j]:\n",
    "            goals = matches[j]['goals1']\n",
    "            for k in range(len(goals)):\n",
    "                goal = goals[k]\n",
    "                if 'offset' in goal:\n",
    "                    goal_time = goal['minute']+goal['offset']\n",
    "                else:\n",
    "                    goal_time = goal['minute']\n",
    "                goal_times.append(goal_time)\n",
    "        if 'goals2' in matches[j]:\n",
    "            goals = matches[j]['goals2']\n",
    "            for k in range(len(goals)):\n",
    "                goal = goals[k]\n",
    "                if 'offset' in goal:\n",
    "                    goal_time = goal['minute']+goal['offset']\n",
    "                else:\n",
    "                    goal_time = goal['minute']\n",
    "                goal_times.append(goal_time)\n",
    "        for z in goal_times:\n",
    "            all_goal_times_2018.append(z)\n",
    "        match_no = match_no +1\n",
    "\n",
    "all_goal_times_2014 = []\n",
    "for i in range(0,20):\n",
    "    matches = pd.read_json('./2014/worldcup.json')['rounds'][i]['matches']\n",
    "    for j in range(len(matches)):\n",
    "        goal_times = []\n",
    "        if 'goals1' in matches[j]:\n",
    "            goals = matches[j]['goals1']\n",
    "            for k in range(len(goals)):\n",
    "                goal = goals[k]\n",
    "                if 'offset' in goal:\n",
    "                    goal_time = goal['minute']+goal['offset']\n",
    "                else:\n",
    "                    goal_time = goal['minute']\n",
    "                goal_times.append(goal_time)\n",
    "        if 'goals2' in matches[j]:\n",
    "            goals = matches[j]['goals2']\n",
    "            for k in range(len(goals)):\n",
    "                goal = goals[k]\n",
    "                if 'offset' in goal:\n",
    "                    goal_time = goal['minute']+goal['offset']\n",
    "                else:\n",
    "                    goal_time = goal['minute']\n",
    "                goal_times.append(goal_time)\n",
    "        for z in goal_times:\n",
    "            all_goal_times_2014.append(z)\n",
    "        match_no = match_no +1\n",
    "\n",
    "fig, ax = plt.subplots()\n",
    "plt.xlabel('Time Intervals')\n",
    "plt.ylabel('Number of Goals')\n",
    "plt.title('Distribution of goals over period of match time(World Cup 2014 vs 2018)')\n",
    "bins = np.array([0,10,20,30,40,50,60,70,80,90,100,110,120])\n",
    "n, bins, patches = plt.hist([all_goal_times_2014, all_goal_times_2018], bins = bins)\n",
    "labels = ['2014 World Cup', '2018 World Cup']\n",
    "plt.legend(labels)\n",
    "plt.show()"
   ]
  }
 ],
 "metadata": {
  "kernelspec": {
   "display_name": "Python 3",
   "language": "python",
   "name": "python3"
  },
  "language_info": {
   "codemirror_mode": {
    "name": "ipython",
    "version": 3
   },
   "file_extension": ".py",
   "mimetype": "text/x-python",
   "name": "python",
   "nbconvert_exporter": "python",
   "pygments_lexer": "ipython3",
   "version": "3.6.5"
  }
 },
 "nbformat": 4,
 "nbformat_minor": 2
}
